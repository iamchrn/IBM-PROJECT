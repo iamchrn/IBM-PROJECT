{
  "nbformat": 4,
  "nbformat_minor": 0,
  "metadata": {
    "colab": {
      "provenance": []
    },
    "kernelspec": {
      "name": "python3",
      "display_name": "Python 3"
    },
    "language_info": {
      "name": "python"
    }
  },
  "cells": [
    {
      "cell_type": "code",
      "execution_count": 29,
      "metadata": {
        "colab": {
          "base_uri": "https://localhost:8080/"
        },
        "id": "hVWyxHDn4Ut5",
        "outputId": "929dd6b1-9ef2-4907-a6c3-a7c17441233a"
      },
      "outputs": [
        {
          "output_type": "stream",
          "name": "stdout",
          "text": [
            "Generated text:\n",
            "Once upon a time, there was a beautiful princess who lived in a castle. She was beautiful, and she loved to dance. She loved to dance. She loved to dance. She loved to dance. She loved to dance. She loved to dance. She loved to dance. She loved to dance. She loved to dance. Once upon a time, there was a beautiful princess who lived in a castle. She was beautiful, and she loved to dance. She loved to dance. She loved to dance. She loved to dance. She loved to dance. She loved to dance. She loved to dance. She loved to dance. She loved to dance. She loved to dance. She loved to dance. She loved to dance. She loved to dance. She loved to dance. She loved to dance. She loved to dance. She loved to dance. She loved to dance. She loved to dance. Once upon a time, there was a beautiful princess who lived in a castle. She was beautiful, and she loved to dance. She loved to dance. She loved to dance. She loved to dance. She loved to dance. She loved to dance. She loved to dance. She loved to dance. She loved to dance. She loved to dance. She loved to dance. She loved to dance. She loved to dance. She loved to dance. She loved to dance. She loved to dance. She loved to dance. She loved to dance. She loved to dance. She loved to dance. She loved to dance. She loved to dance. She loved to dance. She loved to dance. She loved to dance. She loved to dance. She loved to dance. She loved to dance. She loved to dance. Once upon a time, there was a beautiful princess who lived in a castle. She was beautiful, and she loved to dance. She loved to dance. She loved to dance. She loved to dance. She loved to dance. She loved to dance. She loved to dance. She loved to dance. She loved to dance. She loved to dance. She loved to dance. She loved to dance. She loved to dance. She loved to dance. She loved to dance. She loved to dance. She loved to dance. She loved to dance. She loved to dance. She loved to dance. She loved to dance. She loved to dance. She loved to dance. She loved to dance. She loved to dance. She loved to dance. She loved to dance. She loved to dance. She loved to dance. She loved to dance. She loved to dance. She loved to dance. She loved to dance. She loved to dance. She loved to dance. She loved to dance. She loved to dance. She loved to dance. She loved to dance. Once upon a time, there was a beautiful princess who lived in a castle. She was beautiful, and she loved to dance. She loved to dance. She loved to dance. She loved to dance. She loved to dance. She loved to dance. She loved to dance. She loved to dance. She loved to dance. She loved to dance. She loved to dance. She loved to dance. She loved to dance. She loved to dance. She loved to dance. She loved to dance. She loved to dance. She loved to dance. She loved to dance. She loved to dance. She loved to dance. She loved to dance. She loved to dance. She loved to dance. She loved to dance. She loved to dance. She loved to dance. She loved to dance. She loved to dance. She loved to dance. She loved to dance. She loved to dance. She loved to dance. She loved to dance. She loved to dance. She loved to dance. She loved to dance. She loved to dance. She loved to dance. She loved to dance. She loved to dance. She loved to dance. She loved to dance. She loved to dance. She loved to dance. She loved to dance. She loved to dance. She loved to dance. She loved to dance.\n"
          ]
        }
      ],
      "source": [
        "import torch\n",
        "from transformers import GPT2LMHeadModel, GPT2Tokenizer\n",
        "\n",
        "class TextGenerator:\n",
        "    def __init__(self, model_name=\"gpt2-medium\"):\n",
        "        self.tokenizer = GPT2Tokenizer.from_pretrained(model_name)\n",
        "        self.model = GPT2LMHeadModel.from_pretrained(model_name)\n",
        "        self.device = torch.device(\"cuda\" if torch.cuda.is_available() else \"cpu\")\n",
        "        self.model.to(self.device)\n",
        "\n",
        "    def generate_text(self, prompt, max_length=100, temperature=0.7, top_p=0.9, top_k=None, num_sentences=5):\n",
        "        input_ids = self.tokenizer.encode(prompt, return_tensors=\"pt\").to(self.device)\n",
        "        text = \"\"\n",
        "        for _ in range(num_sentences):\n",
        "            output = self.model.generate(\n",
        "                input_ids=input_ids,\n",
        "                max_length=max_length + len(input_ids[0]),\n",
        "                temperature=temperature,\n",
        "                top_p=top_p,\n",
        "                top_k=top_k,\n",
        "                pad_token_id=self.tokenizer.eos_token_id\n",
        "            )\n",
        "            generated_sentence = self.tokenizer.decode(output[0], skip_special_tokens=True)\n",
        "            text += generated_sentence + \" \"\n",
        "            input_ids = self.tokenizer.encode(generated_sentence, return_tensors=\"pt\").to(self.device)\n",
        "        return text.strip()\n",
        "\n",
        "def main():\n",
        "    try:\n",
        "        generator = TextGenerator()\n",
        "        prompt = \"Once upon a time, there was a beautiful princess who lived in a castle.\"\n",
        "        generated_text = generator.generate_text(prompt, max_length=50, temperature=0.7, top_p=0.9, top_k=50, num_sentences=5)\n",
        "        print(\"Generated text:\")\n",
        "        print(generated_text)\n",
        "    except Exception as e:\n",
        "        print(f\"An error occurred: {str(e)}\")\n",
        "\n",
        "if __name__ == \"__main__\":\n",
        "    main()\n"
      ]
    }
  ]
}